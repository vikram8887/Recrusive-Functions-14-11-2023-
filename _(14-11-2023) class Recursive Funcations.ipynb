{
 "cells": [
  {
   "cell_type": "markdown",
   "id": "06d8dd16",
   "metadata": {},
   "source": [
    "# Recursive function"
   ]
  },
  {
   "cell_type": "markdown",
   "id": "1819d1aa",
   "metadata": {},
   "source": [
    "* ###  A recursive function in Python is a function that calls itself during its execution. Recursive functions can be a powerful tool in solving problems that can be broken down into smaller, similar subproblems."
   ]
  },
  {
   "cell_type": "code",
   "execution_count": 1,
   "id": "c79cee35",
   "metadata": {},
   "outputs": [
    {
     "data": {
      "text/plain": [
       "120"
      ]
     },
     "execution_count": 1,
     "metadata": {},
     "output_type": "execute_result"
    }
   ],
   "source": [
    "def foorecfact(n):\n",
    "    if n==1:\n",
    "        return 1 # base condition\n",
    "    else:\n",
    "        return n*foorecfact(n-1)\n",
    "foorecfact(5)"
   ]
  },
  {
   "cell_type": "markdown",
   "id": "6f9d6292",
   "metadata": {},
   "source": [
    "* #### frf------>1 1\n",
    "* #### frf(2)--->2*frf(1)\n",
    "* #### frf(3)--->3*frf(2)\n",
    "* #### frf(4)--->4*frf(3)\n",
    "* #### frf(5)--->5*frf(4)"
   ]
  },
  {
   "cell_type": "markdown",
   "id": "3b96d1d7",
   "metadata": {},
   "source": [
    "### Fibonacci series\n",
    "\n",
    "* #### The Fibonacci series is a sequence of numbers where each number is the sum of the two preceding ones. The sequence starts with 0 and 1.\n",
    "\n",
    "* #### f(n)=f(n-1)+f(n-2)"
   ]
  },
  {
   "cell_type": "code",
   "execution_count": 3,
   "id": "5e43c831",
   "metadata": {},
   "outputs": [
    {
     "data": {
      "text/plain": [
       "3"
      ]
     },
     "execution_count": 3,
     "metadata": {},
     "output_type": "execute_result"
    }
   ],
   "source": [
    "def foorecfib(n):\n",
    "    if n<=0:\n",
    "        return 0\n",
    "    elif n==1:\n",
    "        return 0\n",
    "    elif n==2:\n",
    "        return 1\n",
    "    else:\n",
    "        return foorecfib(n-1)+foorecfib(n-2)\n",
    "foorecfib(5)"
   ]
  },
  {
   "cell_type": "code",
   "execution_count": 4,
   "id": "3ba83252",
   "metadata": {},
   "outputs": [
    {
     "name": "stdout",
     "output_type": "stream",
     "text": [
      "0,0,1,1,2,"
     ]
    }
   ],
   "source": [
    "for i in range(5):\n",
    "    print(foorecfib(i),end=',')"
   ]
  },
  {
   "cell_type": "markdown",
   "id": "aed98cf7",
   "metadata": {},
   "source": [
    "### Args & kwargs\n",
    "\n",
    "* #### args:- '*args' (Arbitrary Arguments):\n",
    "\n",
    "* #### The *args syntax allows a function to accept a variable number of positional arguments.\n",
    "\n",
    "* #### When a function parameter is prefixed with an asterisk (*), it collects any extra positional arguments into a tuple."
   ]
  },
  {
   "cell_type": "code",
   "execution_count": 6,
   "id": "5f717422",
   "metadata": {},
   "outputs": [],
   "source": [
    "def foo(a,b,c=0,*args,**kwargs):\n",
    "    r=a+b+c\n",
    "    for arg in args:\n",
    "        r+=arg\n",
    "    return r"
   ]
  },
  {
   "cell_type": "code",
   "execution_count": 7,
   "id": "618432ed",
   "metadata": {},
   "outputs": [
    {
     "data": {
      "text/plain": [
       "21"
      ]
     },
     "execution_count": 7,
     "metadata": {},
     "output_type": "execute_result"
    }
   ],
   "source": [
    "foo(1,2,3,*(4,5,6))"
   ]
  },
  {
   "cell_type": "code",
   "execution_count": 9,
   "id": "1581bb85",
   "metadata": {},
   "outputs": [
    {
     "data": {
      "text/plain": [
       "21"
      ]
     },
     "execution_count": 9,
     "metadata": {},
     "output_type": "execute_result"
    }
   ],
   "source": [
    "foo(1,2,3,*(4,5,6),**{'marks':[1,2,3]})"
   ]
  },
  {
   "cell_type": "code",
   "execution_count": 10,
   "id": "717a2b71",
   "metadata": {},
   "outputs": [],
   "source": [
    "def foostumarks(**kwargs):\n",
    "    for kwarg in kwargs:\n",
    "        print(f'Total marks scored by {kwarg}is {sum(kwargs[kwarg])}')"
   ]
  },
  {
   "cell_type": "code",
   "execution_count": 11,
   "id": "58a26f79",
   "metadata": {},
   "outputs": [
    {
     "name": "stdout",
     "output_type": "stream",
     "text": [
      "Total marks scored by ramis 60\n",
      "Total marks scored by rahimis 60\n",
      "Total marks scored by sandeepis 60\n"
     ]
    }
   ],
   "source": [
    "foostumarks(**{'ram':(10,20,30),'rahim':[30,20,10],'sandeep':[10,20,30]})"
   ]
  },
  {
   "cell_type": "code",
   "execution_count": null,
   "id": "404e637e",
   "metadata": {},
   "outputs": [],
   "source": []
  }
 ],
 "metadata": {
  "kernelspec": {
   "display_name": "Python 3 (ipykernel)",
   "language": "python",
   "name": "python3"
  },
  "language_info": {
   "codemirror_mode": {
    "name": "ipython",
    "version": 3
   },
   "file_extension": ".py",
   "mimetype": "text/x-python",
   "name": "python",
   "nbconvert_exporter": "python",
   "pygments_lexer": "ipython3",
   "version": "3.11.5"
  }
 },
 "nbformat": 4,
 "nbformat_minor": 5
}
